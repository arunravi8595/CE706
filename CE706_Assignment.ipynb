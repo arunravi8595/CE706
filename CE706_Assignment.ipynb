{
  "nbformat": 4,
  "nbformat_minor": 0,
  "metadata": {
    "colab": {
      "name": "Untitled5.ipynb",
      "provenance": [],
      "collapsed_sections": [],
      "authorship_tag": "ABX9TyPk7wfCW+VIarKcW+By2AYk",
      "include_colab_link": true
    },
    "kernelspec": {
      "name": "python3",
      "display_name": "Python 3"
    }
  },
  "cells": [
    {
      "cell_type": "markdown",
      "metadata": {
        "id": "view-in-github",
        "colab_type": "text"
      },
      "source": [
        "<a href=\"https://colab.research.google.com/github/arunravi8595/CE706/blob/main/CE706_Assignment.ipynb\" target=\"_parent\"><img src=\"https://colab.research.google.com/assets/colab-badge.svg\" alt=\"Open In Colab\"/></a>"
      ]
    },
    {
      "cell_type": "code",
      "metadata": {
        "id": "V98rRa-VKO5P"
      },
      "source": [
        "#import required libraries to work with data\r\n",
        "import numpy as np\r\n",
        "import pandas as pd\r\n",
        "import tensorflow as tf\r\n",
        "from tensorflow import keras\r\n",
        "from tensorflow.keras.preprocessing.text import Tokenizer\r\n",
        "from tensorflow.keras.preprocessing.sequence import pad_sequences"
      ],
      "execution_count": 4,
      "outputs": []
    },
    {
      "cell_type": "code",
      "metadata": {
        "colab": {
          "base_uri": "https://localhost:8080/"
        },
        "id": "HTJprrurJXT8",
        "outputId": "77e1c434-3eac-45e3-a1c0-a1602be4c049"
      },
      "source": [
        "#Load and Read data\r\n",
        "meta_df = pd.read_csv('https://raw.githubusercontent.com/arunravi8595/CE706/main/metadata%20-%20NEW.csv')\r\n",
        "meta_df.shape #Number of rows and columns in the dataset"
      ],
      "execution_count": 5,
      "outputs": [
        {
          "output_type": "execute_result",
          "data": {
            "text/plain": [
              "(1000, 19)"
            ]
          },
          "metadata": {
            "tags": []
          },
          "execution_count": 5
        }
      ]
    },
    {
      "cell_type": "code",
      "metadata": {
        "colab": {
          "base_uri": "https://localhost:8080/",
          "height": 564
        },
        "id": "cqT7q3MPQAuk",
        "outputId": "46b05129-5ee4-409f-989a-eec673e0d387"
      },
      "source": [
        "#File Sample\r\n",
        "meta_df.head()"
      ],
      "execution_count": 10,
      "outputs": [
        {
          "output_type": "execute_result",
          "data": {
            "text/html": [
              "<div>\n",
              "<style scoped>\n",
              "    .dataframe tbody tr th:only-of-type {\n",
              "        vertical-align: middle;\n",
              "    }\n",
              "\n",
              "    .dataframe tbody tr th {\n",
              "        vertical-align: top;\n",
              "    }\n",
              "\n",
              "    .dataframe thead th {\n",
              "        text-align: right;\n",
              "    }\n",
              "</style>\n",
              "<table border=\"1\" class=\"dataframe\">\n",
              "  <thead>\n",
              "    <tr style=\"text-align: right;\">\n",
              "      <th></th>\n",
              "      <th>cord_uid</th>\n",
              "      <th>sha</th>\n",
              "      <th>source_x</th>\n",
              "      <th>title</th>\n",
              "      <th>doi</th>\n",
              "      <th>pmcid</th>\n",
              "      <th>pubmed_id</th>\n",
              "      <th>license</th>\n",
              "      <th>abstract</th>\n",
              "      <th>publish_time</th>\n",
              "      <th>authors</th>\n",
              "      <th>journal</th>\n",
              "      <th>mag_id</th>\n",
              "      <th>who_covidence_id</th>\n",
              "      <th>arxiv_id</th>\n",
              "      <th>pdf_json_files</th>\n",
              "      <th>pmc_json_files</th>\n",
              "      <th>url</th>\n",
              "      <th>s2_id</th>\n",
              "    </tr>\n",
              "  </thead>\n",
              "  <tbody>\n",
              "    <tr>\n",
              "      <th>0</th>\n",
              "      <td>ug7v899j</td>\n",
              "      <td>d1aafb70c066a2068b02786f8929fd9c900897fb</td>\n",
              "      <td>PMC</td>\n",
              "      <td>Clinical features of culture-proven Mycoplasma...</td>\n",
              "      <td>10.1186/1471-2334-1-6</td>\n",
              "      <td>PMC35282</td>\n",
              "      <td>11472636</td>\n",
              "      <td>no-cc</td>\n",
              "      <td>OBJECTIVE: This retrospective chart review des...</td>\n",
              "      <td>04-07-2001</td>\n",
              "      <td>Madani, Tariq A; Al-Ghamdi, Aisha A</td>\n",
              "      <td>BMC Infect Dis</td>\n",
              "      <td>NaN</td>\n",
              "      <td>NaN</td>\n",
              "      <td>NaN</td>\n",
              "      <td>document_parses/pdf_json/d1aafb70c066a2068b027...</td>\n",
              "      <td>document_parses/pmc_json/PMC35282.xml.json</td>\n",
              "      <td>https://www.ncbi.nlm.nih.gov/pmc/articles/PMC3...</td>\n",
              "      <td>NaN</td>\n",
              "    </tr>\n",
              "    <tr>\n",
              "      <th>1</th>\n",
              "      <td>02tnwd4m</td>\n",
              "      <td>6b0567729c2143a66d737eb0a2f63f2dce2e5a7d</td>\n",
              "      <td>PMC</td>\n",
              "      <td>Nitric oxide: a pro-inflammatory mediator in l...</td>\n",
              "      <td>10.1186/rr14</td>\n",
              "      <td>PMC59543</td>\n",
              "      <td>11667967</td>\n",
              "      <td>no-cc</td>\n",
              "      <td>Inflammatory diseases of the respiratory tract...</td>\n",
              "      <td>15-08-2000</td>\n",
              "      <td>Vliet, Albert van der; Eiserich, Jason P; Cros...</td>\n",
              "      <td>Respir Res</td>\n",
              "      <td>NaN</td>\n",
              "      <td>NaN</td>\n",
              "      <td>NaN</td>\n",
              "      <td>document_parses/pdf_json/6b0567729c2143a66d737...</td>\n",
              "      <td>document_parses/pmc_json/PMC59543.xml.json</td>\n",
              "      <td>https://www.ncbi.nlm.nih.gov/pmc/articles/PMC5...</td>\n",
              "      <td>NaN</td>\n",
              "    </tr>\n",
              "    <tr>\n",
              "      <th>2</th>\n",
              "      <td>ejv2xln0</td>\n",
              "      <td>06ced00a5fc04215949aa72528f2eeaae1d58927</td>\n",
              "      <td>PMC</td>\n",
              "      <td>Surfactant protein-D and pulmonary host defense</td>\n",
              "      <td>10.1186/rr19</td>\n",
              "      <td>PMC59549</td>\n",
              "      <td>11667972</td>\n",
              "      <td>no-cc</td>\n",
              "      <td>Surfactant protein-D (SP-D) participates in th...</td>\n",
              "      <td>25-08-2000</td>\n",
              "      <td>Crouch, Erika C</td>\n",
              "      <td>Respir Res</td>\n",
              "      <td>NaN</td>\n",
              "      <td>NaN</td>\n",
              "      <td>NaN</td>\n",
              "      <td>document_parses/pdf_json/06ced00a5fc04215949aa...</td>\n",
              "      <td>document_parses/pmc_json/PMC59549.xml.json</td>\n",
              "      <td>https://www.ncbi.nlm.nih.gov/pmc/articles/PMC5...</td>\n",
              "      <td>NaN</td>\n",
              "    </tr>\n",
              "    <tr>\n",
              "      <th>3</th>\n",
              "      <td>2b73a28n</td>\n",
              "      <td>348055649b6b8cf2b9a376498df9bf41f7123605</td>\n",
              "      <td>PMC</td>\n",
              "      <td>Role of endothelin-1 in lung disease</td>\n",
              "      <td>10.1186/rr44</td>\n",
              "      <td>PMC59574</td>\n",
              "      <td>11686871</td>\n",
              "      <td>no-cc</td>\n",
              "      <td>Endothelin-1 (ET-1) is a 21 amino acid peptide...</td>\n",
              "      <td>22-02-2001</td>\n",
              "      <td>Fagan, Karen A; McMurtry, Ivan F; Rodman, David M</td>\n",
              "      <td>Respir Res</td>\n",
              "      <td>NaN</td>\n",
              "      <td>NaN</td>\n",
              "      <td>NaN</td>\n",
              "      <td>document_parses/pdf_json/348055649b6b8cf2b9a37...</td>\n",
              "      <td>document_parses/pmc_json/PMC59574.xml.json</td>\n",
              "      <td>https://www.ncbi.nlm.nih.gov/pmc/articles/PMC5...</td>\n",
              "      <td>NaN</td>\n",
              "    </tr>\n",
              "    <tr>\n",
              "      <th>4</th>\n",
              "      <td>9785vg6d</td>\n",
              "      <td>5f48792a5fa08bed9f56016f4981ae2ca6031b32</td>\n",
              "      <td>PMC</td>\n",
              "      <td>Gene expression in epithelial cells in respons...</td>\n",
              "      <td>10.1186/rr61</td>\n",
              "      <td>PMC59580</td>\n",
              "      <td>11686888</td>\n",
              "      <td>no-cc</td>\n",
              "      <td>Respiratory syncytial virus (RSV) and pneumoni...</td>\n",
              "      <td>11-05-2001</td>\n",
              "      <td>Domachowske, Joseph B; Bonville, Cynthia A; Ro...</td>\n",
              "      <td>Respir Res</td>\n",
              "      <td>NaN</td>\n",
              "      <td>NaN</td>\n",
              "      <td>NaN</td>\n",
              "      <td>document_parses/pdf_json/5f48792a5fa08bed9f560...</td>\n",
              "      <td>document_parses/pmc_json/PMC59580.xml.json</td>\n",
              "      <td>https://www.ncbi.nlm.nih.gov/pmc/articles/PMC5...</td>\n",
              "      <td>NaN</td>\n",
              "    </tr>\n",
              "  </tbody>\n",
              "</table>\n",
              "</div>"
            ],
            "text/plain": [
              "   cord_uid  ... s2_id\n",
              "0  ug7v899j  ...   NaN\n",
              "1  02tnwd4m  ...   NaN\n",
              "2  ejv2xln0  ...   NaN\n",
              "3  2b73a28n  ...   NaN\n",
              "4  9785vg6d  ...   NaN\n",
              "\n",
              "[5 rows x 19 columns]"
            ]
          },
          "metadata": {
            "tags": []
          },
          "execution_count": 10
        }
      ]
    },
    {
      "cell_type": "code",
      "metadata": {
        "colab": {
          "base_uri": "https://localhost:8080/"
        },
        "id": "hWTu-djMKaTN",
        "outputId": "40a243b3-1836-438f-ef22-6e20714b2dba"
      },
      "source": [
        "#Check empty slots in data\r\n",
        "meta_df.isnull().sum()"
      ],
      "execution_count": 6,
      "outputs": [
        {
          "output_type": "execute_result",
          "data": {
            "text/plain": [
              "cord_uid               0\n",
              "sha                   36\n",
              "source_x               0\n",
              "title                  0\n",
              "doi                    0\n",
              "pmcid                  0\n",
              "pubmed_id              0\n",
              "license                0\n",
              "abstract              44\n",
              "publish_time           0\n",
              "authors               14\n",
              "journal                0\n",
              "mag_id              1000\n",
              "who_covidence_id    1000\n",
              "arxiv_id            1000\n",
              "pdf_json_files        36\n",
              "pmc_json_files        37\n",
              "url                    0\n",
              "s2_id               1000\n",
              "dtype: int64"
            ]
          },
          "metadata": {
            "tags": []
          },
          "execution_count": 6
        }
      ]
    },
    {
      "cell_type": "markdown",
      "metadata": {
        "id": "fqrlcF_jQ_kg"
      },
      "source": [
        "# **Tokenization**"
      ]
    },
    {
      "cell_type": "code",
      "metadata": {
        "colab": {
          "base_uri": "https://localhost:8080/"
        },
        "id": "UU7h5lvtPI18",
        "outputId": "57acc3b7-8e54-412a-ecb0-6df333a802b6"
      },
      "source": [
        "#Get word index using tokenizer\r\n",
        "Tokenizer = Tokenizer(num_words=100)\r\n",
        "Tokenizer.fit_on_texts(meta_df)\r\n",
        "word_index = Tokenizer.word_index\r\n",
        "print(word_index)"
      ],
      "execution_count": 7,
      "outputs": [
        {
          "output_type": "stream",
          "text": [
            "{'id': 1, 'json': 2, 'files': 3, 'cord': 4, 'uid': 5, 'sha': 6, 'source': 7, 'x': 8, 'title': 9, 'doi': 10, 'pmcid': 11, 'pubmed': 12, 'license': 13, 'abstract': 14, 'publish': 15, 'time': 16, 'authors': 17, 'journal': 18, 'mag': 19, 'who': 20, 'covidence': 21, 'arxiv': 22, 'pdf': 23, 'pmc': 24, 'url': 25, 's2': 26}\n"
          ],
          "name": "stdout"
        }
      ]
    },
    {
      "cell_type": "code",
      "metadata": {
        "colab": {
          "base_uri": "https://localhost:8080/"
        },
        "id": "-JIbQ4cTltMa",
        "outputId": "48e01716-5a92-4e88-dde1-40613b5eb811"
      },
      "source": [
        "#Create sequences from tokens created for the words\r\n",
        "sequences = Tokenizer.texts_to_sequences(meta_df)\r\n",
        "print(sequences)"
      ],
      "execution_count": null,
      "outputs": [
        {
          "output_type": "stream",
          "text": [
            "[[4, 5], [6], [7, 8], [9], [10], [11], [12, 1], [13], [14], [15, 16], [17], [18], [19, 1], [20, 21, 1], [22, 1], [23, 2, 3], [24, 2, 3], [25], [26, 1]]\n"
          ],
          "name": "stdout"
        }
      ]
    },
    {
      "cell_type": "code",
      "metadata": {
        "colab": {
          "base_uri": "https://localhost:8080/"
        },
        "id": "Y45dzpVHoHcv",
        "outputId": "204d2c39-f9d5-4b90-c831-1debc06d9d59"
      },
      "source": [
        "#sequencing/padding sentences with different lengths (to arrange in a ordered manner)\r\n",
        "padded = pad_sequences(sequences)\r\n",
        "print(padded)"
      ],
      "execution_count": null,
      "outputs": [
        {
          "output_type": "stream",
          "text": [
            "[[ 0  4  5]\n",
            " [ 0  0  6]\n",
            " [ 0  7  8]\n",
            " [ 0  0  9]\n",
            " [ 0  0 10]\n",
            " [ 0  0 11]\n",
            " [ 0 12  1]\n",
            " [ 0  0 13]\n",
            " [ 0  0 14]\n",
            " [ 0 15 16]\n",
            " [ 0  0 17]\n",
            " [ 0  0 18]\n",
            " [ 0 19  1]\n",
            " [20 21  1]\n",
            " [ 0 22  1]\n",
            " [23  2  3]\n",
            " [24  2  3]\n",
            " [ 0  0 25]\n",
            " [ 0 26  1]]\n"
          ],
          "name": "stdout"
        }
      ]
    },
    {
      "cell_type": "markdown",
      "metadata": {
        "id": "OWAbT-rIRRre"
      },
      "source": [
        "# **Sentence splitting**"
      ]
    },
    {
      "cell_type": "code",
      "metadata": {
        "id": "c3dEdp9_oOCe",
        "colab": {
          "base_uri": "https://localhost:8080/"
        },
        "outputId": "19572c2f-5508-451e-d7b4-f4061a331818"
      },
      "source": [
        "#Sentence splitting in the contents of Abstract column\r\n",
        "meta_df[\"abstract\"].str.split(\",\")"
      ],
      "execution_count": 9,
      "outputs": [
        {
          "output_type": "execute_result",
          "data": {
            "text/plain": [
              "0      [OBJECTIVE: This retrospective chart review de...\n",
              "1      [Inflammatory diseases of the respiratory trac...\n",
              "2      [Surfactant protein-D (SP-D) participates in t...\n",
              "3      [Endothelin-1 (ET-1) is a 21 amino acid peptid...\n",
              "4      [Respiratory syncytial virus (RSV) and pneumon...\n",
              "                             ...                        \n",
              "995    [BACKGROUND: Mannose-binding lectin is a colle...\n",
              "996    [It has been nearly a century since the early ...\n",
              "997    [BACKGROUND: Salmonellosis in water buffalo (B...\n",
              "998    [BACKGROUND: Cerebral malaria (CM) and severe ...\n",
              "999    [Motivation: Laboratory RNA structure determin...\n",
              "Name: abstract, Length: 1000, dtype: object"
            ]
          },
          "metadata": {
            "tags": []
          },
          "execution_count": 9
        }
      ]
    },
    {
      "cell_type": "code",
      "metadata": {
        "colab": {
          "base_uri": "https://localhost:8080/"
        },
        "id": "xcztiWznQU4K",
        "outputId": "85340bfc-7b13-4d0e-b734-e0792c76d39b"
      },
      "source": [
        "# Find keyword in specific column ( Search for \"malaria\" in abstract)\r\n",
        "meta_df[\"abstract\"].str.contains(\"malaria\")"
      ],
      "execution_count": 14,
      "outputs": [
        {
          "output_type": "execute_result",
          "data": {
            "text/plain": [
              "0      False\n",
              "1      False\n",
              "2      False\n",
              "3      False\n",
              "4      False\n",
              "       ...  \n",
              "995    False\n",
              "996    False\n",
              "997    False\n",
              "998     True\n",
              "999    False\n",
              "Name: abstract, Length: 1000, dtype: object"
            ]
          },
          "metadata": {
            "tags": []
          },
          "execution_count": 14
        }
      ]
    },
    {
      "cell_type": "code",
      "metadata": {
        "id": "J1whOdLbRYGX"
      },
      "source": [
        ""
      ],
      "execution_count": null,
      "outputs": []
    },
    {
      "cell_type": "markdown",
      "metadata": {
        "id": "GTGGXoSsSoqq"
      },
      "source": [
        ""
      ]
    }
  ]
}